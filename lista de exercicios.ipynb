{
 "cells": [
  {
   "cell_type": "markdown",
   "metadata": {},
   "source": [
    "1 - Desenvolva um pograma que mostre o seu nome na tela."
   ]
  },
  {
   "cell_type": "code",
   "execution_count": 1,
   "metadata": {},
   "outputs": [
    {
     "name": "stdout",
     "output_type": "stream",
     "text": [
      "igor Brito\n"
     ]
    }
   ],
   "source": [
    "print('igor Brito')"
   ]
  },
  {
   "cell_type": "markdown",
   "metadata": {},
   "source": [
    "2 - Crie um programa que leia o nome de uma pessoa, e, mostre junto do nome, uma mensagem de boas vindas."
   ]
  },
  {
   "cell_type": "code",
   "execution_count": 3,
   "metadata": {},
   "outputs": [
    {
     "name": "stdout",
     "output_type": "stream",
     "text": [
      "Olá igor! Seja bem-vindo(a)...\n"
     ]
    }
   ],
   "source": [
    "nome = str(input('Digite o seu nome: '))\n",
    "\n",
    "print(f'Olá {nome}! Seja bem-vindo(a)...')"
   ]
  },
  {
   "cell_type": "markdown",
   "metadata": {},
   "source": [
    "3 - Crie um programa que faça a soma entre dois números."
   ]
  },
  {
   "cell_type": "code",
   "execution_count": 3,
   "metadata": {},
   "outputs": [
    {
     "name": "stdout",
     "output_type": "stream",
     "text": [
      "5 + 2 = 7\n"
     ]
    }
   ],
   "source": [
    "n1 = int(input('Digite o primeiro número: '))\n",
    "n2 = int(input('Digite o segundo número: '))\n",
    "\n",
    "soma = n1 + n2\n",
    "\n",
    "print(f'{n1} + {n2} = {soma}')"
   ]
  },
  {
   "cell_type": "markdown",
   "metadata": {},
   "source": [
    "4 - Escreva um programa que faça a soma de quatro notas e mostre a média das notas."
   ]
  },
  {
   "cell_type": "code",
   "execution_count": 4,
   "metadata": {},
   "outputs": [
    {
     "name": "stdout",
     "output_type": "stream",
     "text": [
      "2 + 3 = 5\n"
     ]
    }
   ],
   "source": [
    "n1 = int(input('Digite o primeiro número: '))\n",
    "n2 = int(input('Digite o segundo número: '))\n",
    "\n",
    "soma = n1 + n2\n",
    "\n",
    "print(f'{n1} + {n2} = {soma}')"
   ]
  },
  {
   "cell_type": "markdown",
   "metadata": {},
   "source": [
    "5 - Desenvolva um programa que leia um número e mostre o antecessor e o sucessor."
   ]
  },
  {
   "cell_type": "code",
   "execution_count": 5,
   "metadata": {},
   "outputs": [
    {
     "name": "stdout",
     "output_type": "stream",
     "text": [
      "A média é: 5.00\n"
     ]
    }
   ],
   "source": [
    "n1 = float(input('Digite a primeira nota: '))\n",
    "n2 = float(input('Digite a segunda nota: '))\n",
    "n3 = float(input('Digite a terceira nota: '))\n",
    "n4 = float(input('Digite a quarta nota: '))\n",
    "\n",
    "media = (n1 + n2 + n3 + n4) / 4\n",
    "\n",
    "print(f'A média é: {media:.2f}')"
   ]
  },
  {
   "cell_type": "markdown",
   "metadata": {},
   "source": [
    "7 - Exiba o valor da expressão X > Y and A or B, utilizando os valores abaixo:"
   ]
  },
  {
   "cell_type": "code",
   "execution_count": 6,
   "metadata": {},
   "outputs": [
    {
     "name": "stdout",
     "output_type": "stream",
     "text": [
      "4, 5, 6\n"
     ]
    }
   ],
   "source": [
    "numero = int(input('Digite um número: '))\n",
    "\n",
    "ant = numero - 1\n",
    "suc = numero + 1\n",
    "\n",
    "print(f'{ant}, {numero}, {suc}')"
   ]
  },
  {
   "cell_type": "markdown",
   "metadata": {},
   "source": [
    "8 - Conte quantas vezes a letra \"o\" aparece na frase abaixo:\n",
    "\n",
    "Python is powerful..."
   ]
  },
  {
   "cell_type": "code",
   "execution_count": 8,
   "metadata": {},
   "outputs": [
    {
     "name": "stdout",
     "output_type": "stream",
     "text": [
      "A letra o, aparece 2 veze(s).\n"
     ]
    }
   ],
   "source": [
    "frase = \"Python is powerfull\"\n",
    "\n",
    "frase = frase.upper()\n",
    "o = frase.count('P')\n",
    "\n",
    "print(f'A letra o, aparece {o} veze(s).')"
   ]
  },
  {
   "cell_type": "markdown",
   "metadata": {},
   "source": [
    "9 - Ainda utilizando da frase acima, mostre se é um número, tipo, se é alfanumérico, se é alfabético, se está tudo em maiúsculo, se está tudo em minúsculo."
   ]
  },
  {
   "cell_type": "code",
   "execution_count": 9,
   "metadata": {},
   "outputs": [
    {
     "name": "stdout",
     "output_type": "stream",
     "text": [
      "A frase é número? True\n",
      "O tipo da frase é: <class 'str'>\n",
      "A frase é alfanumérico? True\n",
      "A frase é alfabético? False\n",
      "A frase é totalmente maiúsculo? False\n",
      "A frase é totalmente minúsculo? False\n"
     ]
    }
   ],
   "source": [
    "nova_frase = '100'\n",
    "\n",
    "print(f'A frase é número? {nova_frase.isnumeric()}') # False\n",
    "print(f'O tipo da frase é: {type(nova_frase)}') # str\n",
    "print(f'A frase é alfanumérico? {nova_frase.isalnum()}') # False\n",
    "print(f'A frase é alfabético? {nova_frase.isalpha()}') # False\n",
    "print(f'A frase é totalmente maiúsculo? {nova_frase.isupper()}') # False\n",
    "print(f'A frase é totalmente minúsculo? {nova_frase.islower()}') # False"
   ]
  },
  {
   "cell_type": "markdown",
   "metadata": {},
   "source": [
    "10 - Leia um número e mostre o dobro, triplo e raiz quadrada."
   ]
  },
  {
   "cell_type": "code",
   "execution_count": 11,
   "metadata": {},
   "outputs": [
    {
     "name": "stdout",
     "output_type": "stream",
     "text": [
      "O dobro de 5 é: 10\n",
      "O triplo de 5 é: 15\n",
      "A raiz de 5 é: 2.24\n"
     ]
    }
   ],
   "source": [
    "# from math import sqrt\n",
    "# sqrt(9)\n",
    "\n",
    "num = int(input('Digite um número: '))\n",
    "\n",
    "d = num * 2\n",
    "t = num * 3\n",
    "rq = num ** 0.5\n",
    "\n",
    "print(f'O dobro de {num} é: {d}')\n",
    "print(f'O triplo de {num} é: {t}')\n",
    "print(f'A raiz de {num} é: {rq:.2f}')"
   ]
  },
  {
   "cell_type": "markdown",
   "metadata": {},
   "source": [
    "11 - Desenvolva um programa que leia uma medida em metro (m) e mostre sua converção em milímetro (mm), decímetro (dm), centímetro (cm) e quilômetro (km)."
   ]
  },
  {
   "cell_type": "code",
   "execution_count": 15,
   "metadata": {},
   "outputs": [
    {
     "name": "stdout",
     "output_type": "stream",
     "text": [
      " A medida de 10.0 metros é: \n",
      "Em milímetro: 10000.0\n",
      "Em decímetro: 100.0\n",
      "Em centímetro: 0.1\n",
      "Em quilômetro: 0.01\n"
     ]
    }
   ],
   "source": [
    "medida = float(input('Digite uma medida em m: '))\n",
    "\n",
    "mm = medida * 1000\n",
    "dc = medida * 10\n",
    "cm = medida / 100\n",
    "km = medida / 1000\n",
    "\n",
    "print(f'A medida de {medida} metros é: ')\n",
    "print(f'Em milímetro: {mm}')\n",
    "print(f'Em decímetro: {dc}')\n",
    "print(f'Em centímetro: {cm}')\n",
    "print(f'Em quilômetro: {km}')"
   ]
  },
  {
   "cell_type": "markdown",
   "metadata": {},
   "source": [
    "13 - Desenvolva um programa que leia a quantidade de dias, horas, minutos e segundos e calcule o total em segundos."
   ]
  },
  {
   "cell_type": "code",
   "execution_count": 17,
   "metadata": {},
   "outputs": [
    {
     "name": "stdout",
     "output_type": "stream",
     "text": [
      "O total de segundos é: 171060\n"
     ]
    }
   ],
   "source": [
    "d = int(input('Digite a quantidade de dia(s): '))\n",
    "h = int(input('Digite a quantidade de hora(s): '))\n",
    "m = int(input('Digite a quantidade de minuto(s): '))\n",
    "s = int(input('Digite a quantidade de segundo(s): '))\n",
    "\n",
    "total = (d * 24 * 60 * 60) + (h * 60 * 60) + (m * 60) + s\n",
    "\n",
    "print(f'O total de segundos é: {total}')"
   ]
  },
  {
   "cell_type": "markdown",
   "metadata": {},
   "source": [
    "14 - Desenvolva um programa que leia o valor do salário, percentual de aumento, e depois mostre o valor do aumento e o novo salário."
   ]
  },
  {
   "cell_type": "code",
   "execution_count": 18,
   "metadata": {},
   "outputs": [
    {
     "name": "stdout",
     "output_type": "stream",
     "text": [
      "O valor do aumento é: R$ 750.00\n",
      "O valor do salário com aumento é; R$ 2250.0\n"
     ]
    }
   ],
   "source": [
    "salario = float(input('Digite o valor do salário, R$: '))\n",
    "aumento = float(input('Qual o % de aumento? '))\n",
    "\n",
    "valor_aumento = (salario / 100) * aumento\n",
    "salario_aumento = salario + valor_aumento\n",
    "\n",
    "print(f'O valor do aumento é: R$ {valor_aumento:.2f}\\nO valor do salário com aumento é; R$ {salario_aumento}')"
   ]
  },
  {
   "cell_type": "markdown",
   "metadata": {},
   "source": [
    "15 - Escreva um programa que solicite o valor da mercadoria, o % do desconto e exiba o valor a ser descontato e o valor a pagar."
   ]
  },
  {
   "cell_type": "code",
   "execution_count": 19,
   "metadata": {},
   "outputs": [
    {
     "name": "stdout",
     "output_type": "stream",
     "text": [
      "Valor da mercadoria R$ 2.5\n",
      "Valor da mercadoria R$ 47.5\n"
     ]
    }
   ],
   "source": [
    "valor = float(input('Valor da mercadoria R$ '))\n",
    "desconto = int(input('Digite o % do desconto: '))\n",
    "\n",
    "valor_descontado = (valor / 100) * desconto\n",
    "novo_valor = valor - valor_descontado\n",
    "\n",
    "print(f'Valor da mercadoria R$ {valor_descontado}')\n",
    "print(f'Valor da mercadoria R$ {novo_valor}')"
   ]
  },
  {
   "cell_type": "markdown",
   "metadata": {},
   "source": [
    "16 - Escreva um programa que peça a quantidade de km percorridos por um carro alugado, assim como a quantidade de dias pelo qual o carro foi alugado. Calcule o preço a pagar, sabendo que o carro custa RS 180,00 / dia e RS 2,75 por km rodado"
   ]
  },
  {
   "cell_type": "code",
   "execution_count": 20,
   "metadata": {},
   "outputs": [
    {
     "name": "stdout",
     "output_type": "stream",
     "text": [
      "valor a ser pago, R$ 373.75\n"
     ]
    }
   ],
   "source": [
    "km = float(input('km rodado: '))\n",
    "qtd_dia = int(input('quantidade de dias: '))\n",
    "\n",
    "custo = (qtd_dia * 180) + (km * 2.75)\n",
    "\n",
    "print(f'valor a ser pago, R$ {custo:.2f}')"
   ]
  },
  {
   "cell_type": "markdown",
   "metadata": {},
   "source": [
    "17 - Desenvolva um programa que converta temperatura, °C para °F, sabendo que:\n",
    "\n",
    "F = 9.°C / 5 + 32"
   ]
  },
  {
   "cell_type": "code",
   "execution_count": null,
   "metadata": {},
   "outputs": [],
   "source": [
    "c = float(input('c: '))\n",
    "\n",
    "f = 9 * c / 5 + 32\n",
    "\n",
    "print(f'{c}c = {f}f')"
   ]
  },
  {
   "cell_type": "markdown",
   "metadata": {},
   "source": [
    "18 - Crie um programa que calcule a redução do tempo de vida de um fumante. Solicite a quantidade de cigarros fumados por dia e por quantos anos ele já fumou. Considerando que um fumante perde 10 minutos de vida por cigarro, calcule quantos dias de vida ela já perdeu e exiba o total em dias."
   ]
  },
  {
   "cell_type": "code",
   "execution_count": 21,
   "metadata": {},
   "outputs": [
    {
     "name": "stdout",
     "output_type": "stream",
     "text": [
      "Dias Perdidos 5.069444444444445\n"
     ]
    }
   ],
   "source": [
    "qtd_cigarro_dia = int(input('Quantidade de cigarro por dia '))\n",
    "qtd_anos = int(input('Quantidade de anos que fumou '))\n",
    "\n",
    "qtd_cigarro_ano = 365 * qtd_cigarro_dia\n",
    "tempo_perdido_minutos = qtd_cigarro_ano * 10\n",
    "\n",
    "print(f'Dias Perdidos {tempo_perdido_minutos / 1440}')"
   ]
  },
  {
   "cell_type": "markdown",
   "metadata": {},
   "source": [
    "19 - Crie um programa que converta RS em USS. Considerando a cotação de hoje do dólar."
   ]
  },
  {
   "cell_type": "code",
   "execution_count": 22,
   "metadata": {},
   "outputs": [
    {
     "name": "stdout",
     "output_type": "stream",
     "text": [
      "Com R$ 10.00, você compra US$ 2.14\n"
     ]
    }
   ],
   "source": [
    "real = float(input('R$ '))\n",
    "\n",
    "dolar = real / 4.67\n",
    "\n",
    "print(f'Com R$ {real:.2f}, você compra US$ {dolar:.2f}')"
   ]
  },
  {
   "cell_type": "markdown",
   "metadata": {},
   "source": [
    "20 - Desenvolva um programa que calcule a altura e largura em metros de um muro, faça o calculo da área do muro e informe a quantidade necessária para pintá-la. Considere que cada litro de tinta, pinta 2,5m²."
   ]
  },
  {
   "cell_type": "code",
   "execution_count": 24,
   "metadata": {},
   "outputs": [
    {
     "name": "stdout",
     "output_type": "stream",
     "text": [
      "Para pintar uma parede de 200.0m², é necessário 500.0l\n"
     ]
    }
   ],
   "source": [
    "l = float(input('Largura: '))\n",
    "a = float(input('Altura: '))\n",
    "\n",
    "area = l * a\n",
    "\n",
    "tinta = area * 2.5\n",
    "\n",
    "print(f'Para pintar uma parede de {area}m², é necessário {tinta}l')"
   ]
  },
  {
   "cell_type": "markdown",
   "metadata": {},
   "source": [
    "21 - Escreva um programa que leia um número do tipo float e mostre apenas a sua parte inteira, por exemplo, 523.88647 -> 523."
   ]
  },
  {
   "cell_type": "code",
   "execution_count": 25,
   "metadata": {},
   "outputs": [
    {
     "name": "stdout",
     "output_type": "stream",
     "text": [
      "1545\n"
     ]
    }
   ],
   "source": [
    "nf = float(input('Número: '))\n",
    "\n",
    "print(f'{round(nf)}')"
   ]
  },
  {
   "cell_type": "markdown",
   "metadata": {},
   "source": [
    "22 - Desenvolva um programa que faça o sorteio de um nome para granhar um veículo 0km. O programa deve pedir cinco nomes e sortear apenas um."
   ]
  },
  {
   "cell_type": "code",
   "execution_count": 26,
   "metadata": {},
   "outputs": [
    {
     "name": "stdout",
     "output_type": "stream",
     "text": [
      "Brito\n"
     ]
    }
   ],
   "source": [
    "from random import choice\n",
    "\n",
    "nome01 = str(input('Digite o primeiro nome: '))\n",
    "nome02 = str(input('Digite o segundo nome: '))\n",
    "nome03 = str(input('Digite o terceiro nome: '))\n",
    "nome04 = str(input('Digite o quarto nome: '))\n",
    "nome05 = str(input('Digite o quinto nome: '))\n",
    "\n",
    "nomes = [nome01, nome02, nome03, nome04, nome05]\n",
    "sorteio = choice(nomes)\n",
    "\n",
    "print(sorteio)"
   ]
  },
  {
   "cell_type": "markdown",
   "metadata": {},
   "source": [
    "23 - Desenvolva um programa que peça um número entre 0 e 9999, e mostre os digitos do número separadamente. Por exemplo, o número 5896 deve ser mostrado 5, 8, 9 e 6."
   ]
  },
  {
   "cell_type": "code",
   "execution_count": 27,
   "metadata": {},
   "outputs": [
    {
     "name": "stdout",
     "output_type": "stream",
     "text": [
      "5, 6, 2 e 3\n"
     ]
    }
   ],
   "source": [
    "numero = int(input('Número: '))\n",
    "\n",
    "m = numero // 1000\n",
    "c = numero % 1000 // 100\n",
    "d = numero % 100 // 10\n",
    "u = numero % 10\n",
    "\n",
    "print(f'{m}, {c}, {d} e {u}')"
   ]
  }
 ],
 "metadata": {
  "kernelspec": {
   "display_name": "Python 3.10.4 64-bit",
   "language": "python",
   "name": "python3"
  },
  "language_info": {
   "codemirror_mode": {
    "name": "ipython",
    "version": 3
   },
   "file_extension": ".py",
   "mimetype": "text/x-python",
   "name": "python",
   "nbconvert_exporter": "python",
   "pygments_lexer": "ipython3",
   "version": "3.10.4"
  },
  "orig_nbformat": 4,
  "vscode": {
   "interpreter": {
    "hash": "871315533ae903541546fac3e508a0a22e4b3fc9e23d7f9a1ff0491496179623"
   }
  }
 },
 "nbformat": 4,
 "nbformat_minor": 2
}
